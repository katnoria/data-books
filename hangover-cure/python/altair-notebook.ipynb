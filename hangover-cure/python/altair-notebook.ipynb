{
 "cells": [
  {
   "cell_type": "markdown",
   "metadata": {},
   "source": [
    "# Chart Remake - Google Trends: Hangover Cure\n",
    "\n",
    "This is a remake of chartr.co plot using altair. The dataset date range is different as well.\n",
    "\n",
    "--- \n",
    "\n",
    "@date: 05-Sep-2020 | @author: katnoria"
   ]
  },
  {
   "cell_type": "code",
   "execution_count": 3,
   "metadata": {},
   "outputs": [],
   "source": [
    "import pandas as pd\n",
    "import altair as alt"
   ]
  },
  {
   "cell_type": "code",
   "execution_count": 4,
   "metadata": {},
   "outputs": [],
   "source": [
    "def version_info(cls):\n",
    "    print(f\"{cls.__name__}: {cls.__version__}\")"
   ]
  },
  {
   "cell_type": "code",
   "execution_count": 5,
   "metadata": {},
   "outputs": [
    {
     "name": "stdout",
     "output_type": "stream",
     "text": [
      "Library VersionInfo:\n",
      "--------------------\n",
      "pandas: 0.24.2\n",
      "altair: 4.1.0\n"
     ]
    }
   ],
   "source": [
    "print(\"Library VersionInfo:\")\n",
    "print(\"-\"*20)\n",
    "version_info(pd)\n",
    "version_info(alt)"
   ]
  },
  {
   "cell_type": "markdown",
   "metadata": {},
   "source": [
    "# Data\n",
    "\n",
    "I have downloaded the data and made available on the github, so we will just use that."
   ]
  },
  {
   "cell_type": "code",
   "execution_count": 6,
   "metadata": {},
   "outputs": [],
   "source": [
    "df = pd.read_csv(\"../data/us-90days.csv\", parse_dates=[\"Day\"])"
   ]
  },
  {
   "cell_type": "code",
   "execution_count": 7,
   "metadata": {},
   "outputs": [
    {
     "name": "stdout",
     "output_type": "stream",
     "text": [
      "<class 'pandas.core.frame.DataFrame'>\n",
      "RangeIndex: 90 entries, 0 to 89\n",
      "Data columns (total 2 columns):\n",
      "Day                               90 non-null datetime64[ns]\n",
      "hangover cure: (United States)    90 non-null int64\n",
      "dtypes: datetime64[ns](1), int64(1)\n",
      "memory usage: 1.5 KB\n"
     ]
    }
   ],
   "source": [
    "# Basic info\n",
    "df.info()"
   ]
  },
  {
   "cell_type": "code",
   "execution_count": 8,
   "metadata": {},
   "outputs": [
    {
     "data": {
      "text/html": [
       "<div>\n",
       "<style scoped>\n",
       "    .dataframe tbody tr th:only-of-type {\n",
       "        vertical-align: middle;\n",
       "    }\n",
       "\n",
       "    .dataframe tbody tr th {\n",
       "        vertical-align: top;\n",
       "    }\n",
       "\n",
       "    .dataframe thead th {\n",
       "        text-align: right;\n",
       "    }\n",
       "</style>\n",
       "<table border=\"1\" class=\"dataframe\">\n",
       "  <thead>\n",
       "    <tr style=\"text-align: right;\">\n",
       "      <th></th>\n",
       "      <th>hangover cure: (United States)</th>\n",
       "    </tr>\n",
       "  </thead>\n",
       "  <tbody>\n",
       "    <tr>\n",
       "      <th>count</th>\n",
       "      <td>90.000000</td>\n",
       "    </tr>\n",
       "    <tr>\n",
       "      <th>mean</th>\n",
       "      <td>29.633333</td>\n",
       "    </tr>\n",
       "    <tr>\n",
       "      <th>std</th>\n",
       "      <td>18.847973</td>\n",
       "    </tr>\n",
       "    <tr>\n",
       "      <th>min</th>\n",
       "      <td>6.000000</td>\n",
       "    </tr>\n",
       "    <tr>\n",
       "      <th>25%</th>\n",
       "      <td>16.000000</td>\n",
       "    </tr>\n",
       "    <tr>\n",
       "      <th>50%</th>\n",
       "      <td>22.000000</td>\n",
       "    </tr>\n",
       "    <tr>\n",
       "      <th>75%</th>\n",
       "      <td>42.750000</td>\n",
       "    </tr>\n",
       "    <tr>\n",
       "      <th>max</th>\n",
       "      <td>100.000000</td>\n",
       "    </tr>\n",
       "  </tbody>\n",
       "</table>\n",
       "</div>"
      ],
      "text/plain": [
       "       hangover cure: (United States)\n",
       "count                       90.000000\n",
       "mean                        29.633333\n",
       "std                         18.847973\n",
       "min                          6.000000\n",
       "25%                         16.000000\n",
       "50%                         22.000000\n",
       "75%                         42.750000\n",
       "max                        100.000000"
      ]
     },
     "execution_count": 8,
     "metadata": {},
     "output_type": "execute_result"
    }
   ],
   "source": [
    "# Basic stats\n",
    "df.describe()"
   ]
  },
  {
   "cell_type": "code",
   "execution_count": 9,
   "metadata": {},
   "outputs": [
    {
     "data": {
      "text/html": [
       "<div>\n",
       "<style scoped>\n",
       "    .dataframe tbody tr th:only-of-type {\n",
       "        vertical-align: middle;\n",
       "    }\n",
       "\n",
       "    .dataframe tbody tr th {\n",
       "        vertical-align: top;\n",
       "    }\n",
       "\n",
       "    .dataframe thead th {\n",
       "        text-align: right;\n",
       "    }\n",
       "</style>\n",
       "<table border=\"1\" class=\"dataframe\">\n",
       "  <thead>\n",
       "    <tr style=\"text-align: right;\">\n",
       "      <th></th>\n",
       "      <th>Day</th>\n",
       "      <th>hangover cure: (United States)</th>\n",
       "    </tr>\n",
       "  </thead>\n",
       "  <tbody>\n",
       "    <tr>\n",
       "      <th>0</th>\n",
       "      <td>2020-05-30</td>\n",
       "      <td>55</td>\n",
       "    </tr>\n",
       "    <tr>\n",
       "      <th>1</th>\n",
       "      <td>2020-05-31</td>\n",
       "      <td>57</td>\n",
       "    </tr>\n",
       "    <tr>\n",
       "      <th>2</th>\n",
       "      <td>2020-06-01</td>\n",
       "      <td>20</td>\n",
       "    </tr>\n",
       "    <tr>\n",
       "      <th>3</th>\n",
       "      <td>2020-06-02</td>\n",
       "      <td>12</td>\n",
       "    </tr>\n",
       "    <tr>\n",
       "      <th>4</th>\n",
       "      <td>2020-06-03</td>\n",
       "      <td>16</td>\n",
       "    </tr>\n",
       "  </tbody>\n",
       "</table>\n",
       "</div>"
      ],
      "text/plain": [
       "         Day  hangover cure: (United States)\n",
       "0 2020-05-30                              55\n",
       "1 2020-05-31                              57\n",
       "2 2020-06-01                              20\n",
       "3 2020-06-02                              12\n",
       "4 2020-06-03                              16"
      ]
     },
     "execution_count": 9,
     "metadata": {},
     "output_type": "execute_result"
    }
   ],
   "source": [
    "# see first few rows\n",
    "df.head()"
   ]
  },
  {
   "cell_type": "markdown",
   "metadata": {},
   "source": [
    "We will rename the columns to make it easier to reference them later in the code"
   ]
  },
  {
   "cell_type": "code",
   "execution_count": 10,
   "metadata": {},
   "outputs": [
    {
     "data": {
      "text/html": [
       "<div>\n",
       "<style scoped>\n",
       "    .dataframe tbody tr th:only-of-type {\n",
       "        vertical-align: middle;\n",
       "    }\n",
       "\n",
       "    .dataframe tbody tr th {\n",
       "        vertical-align: top;\n",
       "    }\n",
       "\n",
       "    .dataframe thead th {\n",
       "        text-align: right;\n",
       "    }\n",
       "</style>\n",
       "<table border=\"1\" class=\"dataframe\">\n",
       "  <thead>\n",
       "    <tr style=\"text-align: right;\">\n",
       "      <th></th>\n",
       "      <th>Day</th>\n",
       "      <th>Count</th>\n",
       "    </tr>\n",
       "  </thead>\n",
       "  <tbody>\n",
       "    <tr>\n",
       "      <th>0</th>\n",
       "      <td>2020-05-30</td>\n",
       "      <td>55</td>\n",
       "    </tr>\n",
       "    <tr>\n",
       "      <th>1</th>\n",
       "      <td>2020-05-31</td>\n",
       "      <td>57</td>\n",
       "    </tr>\n",
       "    <tr>\n",
       "      <th>2</th>\n",
       "      <td>2020-06-01</td>\n",
       "      <td>20</td>\n",
       "    </tr>\n",
       "    <tr>\n",
       "      <th>3</th>\n",
       "      <td>2020-06-02</td>\n",
       "      <td>12</td>\n",
       "    </tr>\n",
       "    <tr>\n",
       "      <th>4</th>\n",
       "      <td>2020-06-03</td>\n",
       "      <td>16</td>\n",
       "    </tr>\n",
       "  </tbody>\n",
       "</table>\n",
       "</div>"
      ],
      "text/plain": [
       "         Day  Count\n",
       "0 2020-05-30     55\n",
       "1 2020-05-31     57\n",
       "2 2020-06-01     20\n",
       "3 2020-06-02     12\n",
       "4 2020-06-03     16"
      ]
     },
     "execution_count": 10,
     "metadata": {},
     "output_type": "execute_result"
    }
   ],
   "source": [
    "df.columns = ['Day', 'Count']\n",
    "df.head()"
   ]
  },
  {
   "cell_type": "markdown",
   "metadata": {},
   "source": [
    "Here, we add a new column to determine whether a given record is a weekday or the weekend"
   ]
  },
  {
   "cell_type": "code",
   "execution_count": 11,
   "metadata": {},
   "outputs": [
    {
     "data": {
      "text/html": [
       "<div>\n",
       "<style scoped>\n",
       "    .dataframe tbody tr th:only-of-type {\n",
       "        vertical-align: middle;\n",
       "    }\n",
       "\n",
       "    .dataframe tbody tr th {\n",
       "        vertical-align: top;\n",
       "    }\n",
       "\n",
       "    .dataframe thead th {\n",
       "        text-align: right;\n",
       "    }\n",
       "</style>\n",
       "<table border=\"1\" class=\"dataframe\">\n",
       "  <thead>\n",
       "    <tr style=\"text-align: right;\">\n",
       "      <th></th>\n",
       "      <th>Day</th>\n",
       "      <th>Count</th>\n",
       "      <th>weekday</th>\n",
       "    </tr>\n",
       "  </thead>\n",
       "  <tbody>\n",
       "    <tr>\n",
       "      <th>0</th>\n",
       "      <td>2020-05-30</td>\n",
       "      <td>55</td>\n",
       "      <td>5</td>\n",
       "    </tr>\n",
       "    <tr>\n",
       "      <th>1</th>\n",
       "      <td>2020-05-31</td>\n",
       "      <td>57</td>\n",
       "      <td>6</td>\n",
       "    </tr>\n",
       "    <tr>\n",
       "      <th>2</th>\n",
       "      <td>2020-06-01</td>\n",
       "      <td>20</td>\n",
       "      <td>0</td>\n",
       "    </tr>\n",
       "    <tr>\n",
       "      <th>3</th>\n",
       "      <td>2020-06-02</td>\n",
       "      <td>12</td>\n",
       "      <td>1</td>\n",
       "    </tr>\n",
       "    <tr>\n",
       "      <th>4</th>\n",
       "      <td>2020-06-03</td>\n",
       "      <td>16</td>\n",
       "      <td>2</td>\n",
       "    </tr>\n",
       "  </tbody>\n",
       "</table>\n",
       "</div>"
      ],
      "text/plain": [
       "         Day  Count  weekday\n",
       "0 2020-05-30     55        5\n",
       "1 2020-05-31     57        6\n",
       "2 2020-06-01     20        0\n",
       "3 2020-06-02     12        1\n",
       "4 2020-06-03     16        2"
      ]
     },
     "execution_count": 11,
     "metadata": {},
     "output_type": "execute_result"
    }
   ],
   "source": [
    "# 5 - sat, 6 - sunday\n",
    "df['weekday'] = df.Day.dt.weekday\n",
    "df.head()"
   ]
  },
  {
   "cell_type": "markdown",
   "metadata": {},
   "source": [
    "# Plot\n",
    "\n",
    "At this point, we are all good to start making the plot. Let's begin by creating a line chart📈"
   ]
  },
  {
   "cell_type": "code",
   "execution_count": 12,
   "metadata": {},
   "outputs": [],
   "source": [
    "# Add a label for weekday & weekend\n",
    "x_tick_values = df[df.weekday >= 5]['Day']\n",
    "df['label'] = df.weekday.apply(lambda x: 'Saturday \\n& Sunday' if x >= 5 else 'Weekday')"
   ]
  },
  {
   "cell_type": "code",
   "execution_count": 26,
   "metadata": {},
   "outputs": [
    {
     "data": {
      "text/html": [
       "\n",
       "<div id=\"altair-viz-fbc0c17b2b5d45f88d6f0db20c11f69d\"></div>\n",
       "<script type=\"text/javascript\">\n",
       "  (function(spec, embedOpt){\n",
       "    let outputDiv = document.currentScript.previousElementSibling;\n",
       "    if (outputDiv.id !== \"altair-viz-fbc0c17b2b5d45f88d6f0db20c11f69d\") {\n",
       "      outputDiv = document.getElementById(\"altair-viz-fbc0c17b2b5d45f88d6f0db20c11f69d\");\n",
       "    }\n",
       "    const paths = {\n",
       "      \"vega\": \"https://cdn.jsdelivr.net/npm//vega@5?noext\",\n",
       "      \"vega-lib\": \"https://cdn.jsdelivr.net/npm//vega-lib?noext\",\n",
       "      \"vega-lite\": \"https://cdn.jsdelivr.net/npm//vega-lite@4.8.1?noext\",\n",
       "      \"vega-embed\": \"https://cdn.jsdelivr.net/npm//vega-embed@6?noext\",\n",
       "    };\n",
       "\n",
       "    function loadScript(lib) {\n",
       "      return new Promise(function(resolve, reject) {\n",
       "        var s = document.createElement('script');\n",
       "        s.src = paths[lib];\n",
       "        s.async = true;\n",
       "        s.onload = () => resolve(paths[lib]);\n",
       "        s.onerror = () => reject(`Error loading script: ${paths[lib]}`);\n",
       "        document.getElementsByTagName(\"head\")[0].appendChild(s);\n",
       "      });\n",
       "    }\n",
       "\n",
       "    function showError(err) {\n",
       "      outputDiv.innerHTML = `<div class=\"error\" style=\"color:red;\">${err}</div>`;\n",
       "      throw err;\n",
       "    }\n",
       "\n",
       "    function displayChart(vegaEmbed) {\n",
       "      vegaEmbed(outputDiv, spec, embedOpt)\n",
       "        .catch(err => showError(`Javascript Error: ${err.message}<br>This usually means there's a typo in your chart specification. See the javascript console for the full traceback.`));\n",
       "    }\n",
       "\n",
       "    if(typeof define === \"function\" && define.amd) {\n",
       "      requirejs.config({paths});\n",
       "      require([\"vega-embed\"], displayChart, err => showError(`Error loading script: ${err.message}`));\n",
       "    } else if (typeof vegaEmbed === \"function\") {\n",
       "      displayChart(vegaEmbed);\n",
       "    } else {\n",
       "      loadScript(\"vega\")\n",
       "        .then(() => loadScript(\"vega-lite\"))\n",
       "        .then(() => loadScript(\"vega-embed\"))\n",
       "        .catch(showError)\n",
       "        .then(() => displayChart(vegaEmbed));\n",
       "    }\n",
       "  })({\"config\": {\"view\": {\"continuousWidth\": 400, \"continuousHeight\": 300}}, \"data\": {\"name\": \"data-4968d534fe40da61815f940442ba9fe3\"}, \"mark\": \"line\", \"encoding\": {\"x\": {\"type\": \"temporal\", \"axis\": {\"format\": \"%b %d\", \"grid\": false, \"labelAngle\": -45, \"title\": \"\"}, \"field\": \"Day\"}, \"y\": {\"type\": \"quantitative\", \"axis\": {\"grid\": false}, \"field\": \"Count\", \"title\": \"Google Search Volume (Indexed, 100 = Maximum)\"}}, \"height\": 500, \"title\": \"Data is Beautiful. Hangovers Are Not\", \"width\": 1000, \"$schema\": \"https://vega.github.io/schema/vega-lite/v4.8.1.json\", \"datasets\": {\"data-4968d534fe40da61815f940442ba9fe3\": [{\"Day\": \"2020-05-30T00:00:00\", \"Count\": 55, \"weekday\": 5, \"label\": \"Saturday \\n& Sunday\"}, {\"Day\": \"2020-05-31T00:00:00\", \"Count\": 57, \"weekday\": 6, \"label\": \"Saturday \\n& Sunday\"}, {\"Day\": \"2020-06-01T00:00:00\", \"Count\": 20, \"weekday\": 0, \"label\": \"Weekday\"}, {\"Day\": \"2020-06-02T00:00:00\", \"Count\": 12, \"weekday\": 1, \"label\": \"Weekday\"}, {\"Day\": \"2020-06-03T00:00:00\", \"Count\": 16, \"weekday\": 2, \"label\": \"Weekday\"}, {\"Day\": \"2020-06-04T00:00:00\", \"Count\": 18, \"weekday\": 3, \"label\": \"Weekday\"}, {\"Day\": \"2020-06-05T00:00:00\", \"Count\": 19, \"weekday\": 4, \"label\": \"Weekday\"}, {\"Day\": \"2020-06-06T00:00:00\", \"Count\": 40, \"weekday\": 5, \"label\": \"Saturday \\n& Sunday\"}, {\"Day\": \"2020-06-07T00:00:00\", \"Count\": 60, \"weekday\": 6, \"label\": \"Saturday \\n& Sunday\"}, {\"Day\": \"2020-06-08T00:00:00\", \"Count\": 29, \"weekday\": 0, \"label\": \"Weekday\"}, {\"Day\": \"2020-06-09T00:00:00\", \"Count\": 20, \"weekday\": 1, \"label\": \"Weekday\"}, {\"Day\": \"2020-06-10T00:00:00\", \"Count\": 12, \"weekday\": 2, \"label\": \"Weekday\"}, {\"Day\": \"2020-06-11T00:00:00\", \"Count\": 10, \"weekday\": 3, \"label\": \"Weekday\"}, {\"Day\": \"2020-06-12T00:00:00\", \"Count\": 22, \"weekday\": 4, \"label\": \"Weekday\"}, {\"Day\": \"2020-06-13T00:00:00\", \"Count\": 46, \"weekday\": 5, \"label\": \"Saturday \\n& Sunday\"}, {\"Day\": \"2020-06-14T00:00:00\", \"Count\": 78, \"weekday\": 6, \"label\": \"Saturday \\n& Sunday\"}, {\"Day\": \"2020-06-15T00:00:00\", \"Count\": 26, \"weekday\": 0, \"label\": \"Weekday\"}, {\"Day\": \"2020-06-16T00:00:00\", \"Count\": 16, \"weekday\": 1, \"label\": \"Weekday\"}, {\"Day\": \"2020-06-17T00:00:00\", \"Count\": 21, \"weekday\": 2, \"label\": \"Weekday\"}, {\"Day\": \"2020-06-18T00:00:00\", \"Count\": 16, \"weekday\": 3, \"label\": \"Weekday\"}, {\"Day\": \"2020-06-19T00:00:00\", \"Count\": 19, \"weekday\": 4, \"label\": \"Weekday\"}, {\"Day\": \"2020-06-20T00:00:00\", \"Count\": 58, \"weekday\": 5, \"label\": \"Saturday \\n& Sunday\"}, {\"Day\": \"2020-06-21T00:00:00\", \"Count\": 70, \"weekday\": 6, \"label\": \"Saturday \\n& Sunday\"}, {\"Day\": \"2020-06-22T00:00:00\", \"Count\": 22, \"weekday\": 0, \"label\": \"Weekday\"}, {\"Day\": \"2020-06-23T00:00:00\", \"Count\": 18, \"weekday\": 1, \"label\": \"Weekday\"}, {\"Day\": \"2020-06-24T00:00:00\", \"Count\": 22, \"weekday\": 2, \"label\": \"Weekday\"}, {\"Day\": \"2020-06-25T00:00:00\", \"Count\": 20, \"weekday\": 3, \"label\": \"Weekday\"}, {\"Day\": \"2020-06-26T00:00:00\", \"Count\": 20, \"weekday\": 4, \"label\": \"Weekday\"}, {\"Day\": \"2020-06-27T00:00:00\", \"Count\": 43, \"weekday\": 5, \"label\": \"Saturday \\n& Sunday\"}, {\"Day\": \"2020-06-28T00:00:00\", \"Count\": 55, \"weekday\": 6, \"label\": \"Saturday \\n& Sunday\"}, {\"Day\": \"2020-06-29T00:00:00\", \"Count\": 23, \"weekday\": 0, \"label\": \"Weekday\"}, {\"Day\": \"2020-06-30T00:00:00\", \"Count\": 14, \"weekday\": 1, \"label\": \"Weekday\"}, {\"Day\": \"2020-07-01T00:00:00\", \"Count\": 25, \"weekday\": 2, \"label\": \"Weekday\"}, {\"Day\": \"2020-07-02T00:00:00\", \"Count\": 25, \"weekday\": 3, \"label\": \"Weekday\"}, {\"Day\": \"2020-07-03T00:00:00\", \"Count\": 35, \"weekday\": 4, \"label\": \"Weekday\"}, {\"Day\": \"2020-07-04T00:00:00\", \"Count\": 59, \"weekday\": 5, \"label\": \"Saturday \\n& Sunday\"}, {\"Day\": \"2020-07-05T00:00:00\", \"Count\": 100, \"weekday\": 6, \"label\": \"Saturday \\n& Sunday\"}, {\"Day\": \"2020-07-06T00:00:00\", \"Count\": 18, \"weekday\": 0, \"label\": \"Weekday\"}, {\"Day\": \"2020-07-07T00:00:00\", \"Count\": 17, \"weekday\": 1, \"label\": \"Weekday\"}, {\"Day\": \"2020-07-08T00:00:00\", \"Count\": 15, \"weekday\": 2, \"label\": \"Weekday\"}, {\"Day\": \"2020-07-09T00:00:00\", \"Count\": 13, \"weekday\": 3, \"label\": \"Weekday\"}, {\"Day\": \"2020-07-10T00:00:00\", \"Count\": 26, \"weekday\": 4, \"label\": \"Weekday\"}, {\"Day\": \"2020-07-11T00:00:00\", \"Count\": 43, \"weekday\": 5, \"label\": \"Saturday \\n& Sunday\"}, {\"Day\": \"2020-07-12T00:00:00\", \"Count\": 53, \"weekday\": 6, \"label\": \"Saturday \\n& Sunday\"}, {\"Day\": \"2020-07-13T00:00:00\", \"Count\": 24, \"weekday\": 0, \"label\": \"Weekday\"}, {\"Day\": \"2020-07-14T00:00:00\", \"Count\": 18, \"weekday\": 1, \"label\": \"Weekday\"}, {\"Day\": \"2020-07-15T00:00:00\", \"Count\": 12, \"weekday\": 2, \"label\": \"Weekday\"}, {\"Day\": \"2020-07-16T00:00:00\", \"Count\": 19, \"weekday\": 3, \"label\": \"Weekday\"}, {\"Day\": \"2020-07-17T00:00:00\", \"Count\": 11, \"weekday\": 4, \"label\": \"Weekday\"}, {\"Day\": \"2020-07-18T00:00:00\", \"Count\": 41, \"weekday\": 5, \"label\": \"Saturday \\n& Sunday\"}, {\"Day\": \"2020-07-19T00:00:00\", \"Count\": 55, \"weekday\": 6, \"label\": \"Saturday \\n& Sunday\"}, {\"Day\": \"2020-07-20T00:00:00\", \"Count\": 24, \"weekday\": 0, \"label\": \"Weekday\"}, {\"Day\": \"2020-07-21T00:00:00\", \"Count\": 16, \"weekday\": 1, \"label\": \"Weekday\"}, {\"Day\": \"2020-07-22T00:00:00\", \"Count\": 13, \"weekday\": 2, \"label\": \"Weekday\"}, {\"Day\": \"2020-07-23T00:00:00\", \"Count\": 12, \"weekday\": 3, \"label\": \"Weekday\"}, {\"Day\": \"2020-07-24T00:00:00\", \"Count\": 24, \"weekday\": 4, \"label\": \"Weekday\"}, {\"Day\": \"2020-07-25T00:00:00\", \"Count\": 58, \"weekday\": 5, \"label\": \"Saturday \\n& Sunday\"}, {\"Day\": \"2020-07-26T00:00:00\", \"Count\": 52, \"weekday\": 6, \"label\": \"Saturday \\n& Sunday\"}, {\"Day\": \"2020-07-27T00:00:00\", \"Count\": 23, \"weekday\": 0, \"label\": \"Weekday\"}, {\"Day\": \"2020-07-28T00:00:00\", \"Count\": 12, \"weekday\": 1, \"label\": \"Weekday\"}, {\"Day\": \"2020-07-29T00:00:00\", \"Count\": 18, \"weekday\": 2, \"label\": \"Weekday\"}, {\"Day\": \"2020-07-30T00:00:00\", \"Count\": 14, \"weekday\": 3, \"label\": \"Weekday\"}, {\"Day\": \"2020-07-31T00:00:00\", \"Count\": 17, \"weekday\": 4, \"label\": \"Weekday\"}, {\"Day\": \"2020-08-01T00:00:00\", \"Count\": 52, \"weekday\": 5, \"label\": \"Saturday \\n& Sunday\"}, {\"Day\": \"2020-08-02T00:00:00\", \"Count\": 55, \"weekday\": 6, \"label\": \"Saturday \\n& Sunday\"}, {\"Day\": \"2020-08-03T00:00:00\", \"Count\": 24, \"weekday\": 0, \"label\": \"Weekday\"}, {\"Day\": \"2020-08-04T00:00:00\", \"Count\": 11, \"weekday\": 1, \"label\": \"Weekday\"}, {\"Day\": \"2020-08-05T00:00:00\", \"Count\": 16, \"weekday\": 2, \"label\": \"Weekday\"}, {\"Day\": \"2020-08-06T00:00:00\", \"Count\": 18, \"weekday\": 3, \"label\": \"Weekday\"}, {\"Day\": \"2020-08-07T00:00:00\", \"Count\": 25, \"weekday\": 4, \"label\": \"Weekday\"}, {\"Day\": \"2020-08-08T00:00:00\", \"Count\": 42, \"weekday\": 5, \"label\": \"Saturday \\n& Sunday\"}, {\"Day\": \"2020-08-09T00:00:00\", \"Count\": 53, \"weekday\": 6, \"label\": \"Saturday \\n& Sunday\"}, {\"Day\": \"2020-08-10T00:00:00\", \"Count\": 22, \"weekday\": 0, \"label\": \"Weekday\"}, {\"Day\": \"2020-08-11T00:00:00\", \"Count\": 12, \"weekday\": 1, \"label\": \"Weekday\"}, {\"Day\": \"2020-08-12T00:00:00\", \"Count\": 11, \"weekday\": 2, \"label\": \"Weekday\"}, {\"Day\": \"2020-08-13T00:00:00\", \"Count\": 6, \"weekday\": 3, \"label\": \"Weekday\"}, {\"Day\": \"2020-08-14T00:00:00\", \"Count\": 21, \"weekday\": 4, \"label\": \"Weekday\"}, {\"Day\": \"2020-08-15T00:00:00\", \"Count\": 51, \"weekday\": 5, \"label\": \"Saturday \\n& Sunday\"}, {\"Day\": \"2020-08-16T00:00:00\", \"Count\": 55, \"weekday\": 6, \"label\": \"Saturday \\n& Sunday\"}, {\"Day\": \"2020-08-17T00:00:00\", \"Count\": 25, \"weekday\": 0, \"label\": \"Weekday\"}, {\"Day\": \"2020-08-18T00:00:00\", \"Count\": 15, \"weekday\": 1, \"label\": \"Weekday\"}, {\"Day\": \"2020-08-19T00:00:00\", \"Count\": 14, \"weekday\": 2, \"label\": \"Weekday\"}, {\"Day\": \"2020-08-20T00:00:00\", \"Count\": 40, \"weekday\": 3, \"label\": \"Weekday\"}, {\"Day\": \"2020-08-21T00:00:00\", \"Count\": 34, \"weekday\": 4, \"label\": \"Weekday\"}, {\"Day\": \"2020-08-22T00:00:00\", \"Count\": 58, \"weekday\": 5, \"label\": \"Saturday \\n& Sunday\"}, {\"Day\": \"2020-08-23T00:00:00\", \"Count\": 62, \"weekday\": 6, \"label\": \"Saturday \\n& Sunday\"}, {\"Day\": \"2020-08-24T00:00:00\", \"Count\": 33, \"weekday\": 0, \"label\": \"Weekday\"}, {\"Day\": \"2020-08-25T00:00:00\", \"Count\": 14, \"weekday\": 1, \"label\": \"Weekday\"}, {\"Day\": \"2020-08-26T00:00:00\", \"Count\": 16, \"weekday\": 2, \"label\": \"Weekday\"}, {\"Day\": \"2020-08-27T00:00:00\", \"Count\": 13, \"weekday\": 3, \"label\": \"Weekday\"}]}}, {\"mode\": \"vega-lite\"});\n",
       "</script>"
      ],
      "text/plain": [
       "alt.Chart(...)"
      ]
     },
     "execution_count": 26,
     "metadata": {},
     "output_type": "execute_result"
    }
   ],
   "source": [
    "# Line chart\n",
    "alt.Chart(df).mark_line().encode(\n",
    "    alt.X('Day', axis=alt.Axis(title=\"\", format=(\"%b %d\"), labelAngle=-45, grid=False)),\n",
    "    alt.Y('Count', title=\"Google Search Volume (Indexed, 100 = Maximum)\", axis=alt.Axis(grid=False))\n",
    ").properties(\n",
    "    title=\"Data is Beautiful. Hangovers Are Not\",\n",
    "    width=1000,\n",
    "    height=500\n",
    ")"
   ]
  },
  {
   "cell_type": "markdown",
   "metadata": {},
   "source": [
    "Next, let's add the weekend bands"
   ]
  },
  {
   "cell_type": "code",
   "execution_count": 27,
   "metadata": {},
   "outputs": [
    {
     "data": {
      "text/html": [
       "<div>\n",
       "<style scoped>\n",
       "    .dataframe tbody tr th:only-of-type {\n",
       "        vertical-align: middle;\n",
       "    }\n",
       "\n",
       "    .dataframe tbody tr th {\n",
       "        vertical-align: top;\n",
       "    }\n",
       "\n",
       "    .dataframe thead th {\n",
       "        text-align: right;\n",
       "    }\n",
       "</style>\n",
       "<table border=\"1\" class=\"dataframe\">\n",
       "  <thead>\n",
       "    <tr style=\"text-align: right;\">\n",
       "      <th></th>\n",
       "      <th>Day</th>\n",
       "      <th>Count</th>\n",
       "    </tr>\n",
       "  </thead>\n",
       "  <tbody>\n",
       "    <tr>\n",
       "      <th>0</th>\n",
       "      <td>2020-05-30</td>\n",
       "      <td>100</td>\n",
       "    </tr>\n",
       "    <tr>\n",
       "      <th>1</th>\n",
       "      <td>2020-05-31</td>\n",
       "      <td>100</td>\n",
       "    </tr>\n",
       "    <tr>\n",
       "      <th>7</th>\n",
       "      <td>2020-06-06</td>\n",
       "      <td>100</td>\n",
       "    </tr>\n",
       "  </tbody>\n",
       "</table>\n",
       "</div>"
      ],
      "text/plain": [
       "         Day  Count\n",
       "0 2020-05-30    100\n",
       "1 2020-05-31    100\n",
       "7 2020-06-06    100"
      ]
     },
     "execution_count": 27,
     "metadata": {},
     "output_type": "execute_result"
    }
   ],
   "source": [
    "# We need to add vertical bars, so we make use of constant value of 100 for every row\n",
    "# I am sure there are better ways to do this, but this will work\n",
    "x_tick_values = pd.DataFrame(x_tick_values)\n",
    "x_tick_values['Count'] = 100\n",
    "x_tick_values.head(3)"
   ]
  },
  {
   "cell_type": "code",
   "execution_count": 31,
   "metadata": {},
   "outputs": [
    {
     "data": {
      "text/html": [
       "\n",
       "<div id=\"altair-viz-1766b60529334d39b5f1c6cfa1595b2c\"></div>\n",
       "<script type=\"text/javascript\">\n",
       "  (function(spec, embedOpt){\n",
       "    let outputDiv = document.currentScript.previousElementSibling;\n",
       "    if (outputDiv.id !== \"altair-viz-1766b60529334d39b5f1c6cfa1595b2c\") {\n",
       "      outputDiv = document.getElementById(\"altair-viz-1766b60529334d39b5f1c6cfa1595b2c\");\n",
       "    }\n",
       "    const paths = {\n",
       "      \"vega\": \"https://cdn.jsdelivr.net/npm//vega@5?noext\",\n",
       "      \"vega-lib\": \"https://cdn.jsdelivr.net/npm//vega-lib?noext\",\n",
       "      \"vega-lite\": \"https://cdn.jsdelivr.net/npm//vega-lite@4.8.1?noext\",\n",
       "      \"vega-embed\": \"https://cdn.jsdelivr.net/npm//vega-embed@6?noext\",\n",
       "    };\n",
       "\n",
       "    function loadScript(lib) {\n",
       "      return new Promise(function(resolve, reject) {\n",
       "        var s = document.createElement('script');\n",
       "        s.src = paths[lib];\n",
       "        s.async = true;\n",
       "        s.onload = () => resolve(paths[lib]);\n",
       "        s.onerror = () => reject(`Error loading script: ${paths[lib]}`);\n",
       "        document.getElementsByTagName(\"head\")[0].appendChild(s);\n",
       "      });\n",
       "    }\n",
       "\n",
       "    function showError(err) {\n",
       "      outputDiv.innerHTML = `<div class=\"error\" style=\"color:red;\">${err}</div>`;\n",
       "      throw err;\n",
       "    }\n",
       "\n",
       "    function displayChart(vegaEmbed) {\n",
       "      vegaEmbed(outputDiv, spec, embedOpt)\n",
       "        .catch(err => showError(`Javascript Error: ${err.message}<br>This usually means there's a typo in your chart specification. See the javascript console for the full traceback.`));\n",
       "    }\n",
       "\n",
       "    if(typeof define === \"function\" && define.amd) {\n",
       "      requirejs.config({paths});\n",
       "      require([\"vega-embed\"], displayChart, err => showError(`Error loading script: ${err.message}`));\n",
       "    } else if (typeof vegaEmbed === \"function\") {\n",
       "      displayChart(vegaEmbed);\n",
       "    } else {\n",
       "      loadScript(\"vega\")\n",
       "        .then(() => loadScript(\"vega-lite\"))\n",
       "        .then(() => loadScript(\"vega-embed\"))\n",
       "        .catch(showError)\n",
       "        .then(() => displayChart(vegaEmbed));\n",
       "    }\n",
       "  })({\"config\": {\"view\": {\"continuousWidth\": 400, \"continuousHeight\": 300}}, \"layer\": [{\"data\": {\"name\": \"data-4968d534fe40da61815f940442ba9fe3\"}, \"mark\": {\"type\": \"line\", \"color\": \"black\"}, \"encoding\": {\"x\": {\"type\": \"temporal\", \"axis\": {\"format\": \"%b %d\", \"grid\": false, \"labelAngle\": -45, \"title\": \"\"}, \"field\": \"Day\"}, \"y\": {\"type\": \"quantitative\", \"axis\": {\"grid\": false}, \"field\": \"Count\", \"title\": \"Google Search Volume (Indexed, 100 = Maximum)\"}}, \"height\": 500, \"title\": \"Data is Beautiful. Hangovers Are Not\", \"width\": 1000}, {\"data\": {\"name\": \"data-1d8084f21a1411ad8a200f0dd5d02e4d\"}, \"mark\": {\"type\": \"bar\", \"opacity\": 0.2, \"size\": 12}, \"encoding\": {\"x\": {\"type\": \"temporal\", \"field\": \"Day\"}, \"y\": {\"type\": \"quantitative\", \"field\": \"Count\"}}}], \"$schema\": \"https://vega.github.io/schema/vega-lite/v4.8.1.json\", \"datasets\": {\"data-4968d534fe40da61815f940442ba9fe3\": [{\"Day\": \"2020-05-30T00:00:00\", \"Count\": 55, \"weekday\": 5, \"label\": \"Saturday \\n& Sunday\"}, {\"Day\": \"2020-05-31T00:00:00\", \"Count\": 57, \"weekday\": 6, \"label\": \"Saturday \\n& Sunday\"}, {\"Day\": \"2020-06-01T00:00:00\", \"Count\": 20, \"weekday\": 0, \"label\": \"Weekday\"}, {\"Day\": \"2020-06-02T00:00:00\", \"Count\": 12, \"weekday\": 1, \"label\": \"Weekday\"}, {\"Day\": \"2020-06-03T00:00:00\", \"Count\": 16, \"weekday\": 2, \"label\": \"Weekday\"}, {\"Day\": \"2020-06-04T00:00:00\", \"Count\": 18, \"weekday\": 3, \"label\": \"Weekday\"}, {\"Day\": \"2020-06-05T00:00:00\", \"Count\": 19, \"weekday\": 4, \"label\": \"Weekday\"}, {\"Day\": \"2020-06-06T00:00:00\", \"Count\": 40, \"weekday\": 5, \"label\": \"Saturday \\n& Sunday\"}, {\"Day\": \"2020-06-07T00:00:00\", \"Count\": 60, \"weekday\": 6, \"label\": \"Saturday \\n& Sunday\"}, {\"Day\": \"2020-06-08T00:00:00\", \"Count\": 29, \"weekday\": 0, \"label\": \"Weekday\"}, {\"Day\": \"2020-06-09T00:00:00\", \"Count\": 20, \"weekday\": 1, \"label\": \"Weekday\"}, {\"Day\": \"2020-06-10T00:00:00\", \"Count\": 12, \"weekday\": 2, \"label\": \"Weekday\"}, {\"Day\": \"2020-06-11T00:00:00\", \"Count\": 10, \"weekday\": 3, \"label\": \"Weekday\"}, {\"Day\": \"2020-06-12T00:00:00\", \"Count\": 22, \"weekday\": 4, \"label\": \"Weekday\"}, {\"Day\": \"2020-06-13T00:00:00\", \"Count\": 46, \"weekday\": 5, \"label\": \"Saturday \\n& Sunday\"}, {\"Day\": \"2020-06-14T00:00:00\", \"Count\": 78, \"weekday\": 6, \"label\": \"Saturday \\n& Sunday\"}, {\"Day\": \"2020-06-15T00:00:00\", \"Count\": 26, \"weekday\": 0, \"label\": \"Weekday\"}, {\"Day\": \"2020-06-16T00:00:00\", \"Count\": 16, \"weekday\": 1, \"label\": \"Weekday\"}, {\"Day\": \"2020-06-17T00:00:00\", \"Count\": 21, \"weekday\": 2, \"label\": \"Weekday\"}, {\"Day\": \"2020-06-18T00:00:00\", \"Count\": 16, \"weekday\": 3, \"label\": \"Weekday\"}, {\"Day\": \"2020-06-19T00:00:00\", \"Count\": 19, \"weekday\": 4, \"label\": \"Weekday\"}, {\"Day\": \"2020-06-20T00:00:00\", \"Count\": 58, \"weekday\": 5, \"label\": \"Saturday \\n& Sunday\"}, {\"Day\": \"2020-06-21T00:00:00\", \"Count\": 70, \"weekday\": 6, \"label\": \"Saturday \\n& Sunday\"}, {\"Day\": \"2020-06-22T00:00:00\", \"Count\": 22, \"weekday\": 0, \"label\": \"Weekday\"}, {\"Day\": \"2020-06-23T00:00:00\", \"Count\": 18, \"weekday\": 1, \"label\": \"Weekday\"}, {\"Day\": \"2020-06-24T00:00:00\", \"Count\": 22, \"weekday\": 2, \"label\": \"Weekday\"}, {\"Day\": \"2020-06-25T00:00:00\", \"Count\": 20, \"weekday\": 3, \"label\": \"Weekday\"}, {\"Day\": \"2020-06-26T00:00:00\", \"Count\": 20, \"weekday\": 4, \"label\": \"Weekday\"}, {\"Day\": \"2020-06-27T00:00:00\", \"Count\": 43, \"weekday\": 5, \"label\": \"Saturday \\n& Sunday\"}, {\"Day\": \"2020-06-28T00:00:00\", \"Count\": 55, \"weekday\": 6, \"label\": \"Saturday \\n& Sunday\"}, {\"Day\": \"2020-06-29T00:00:00\", \"Count\": 23, \"weekday\": 0, \"label\": \"Weekday\"}, {\"Day\": \"2020-06-30T00:00:00\", \"Count\": 14, \"weekday\": 1, \"label\": \"Weekday\"}, {\"Day\": \"2020-07-01T00:00:00\", \"Count\": 25, \"weekday\": 2, \"label\": \"Weekday\"}, {\"Day\": \"2020-07-02T00:00:00\", \"Count\": 25, \"weekday\": 3, \"label\": \"Weekday\"}, {\"Day\": \"2020-07-03T00:00:00\", \"Count\": 35, \"weekday\": 4, \"label\": \"Weekday\"}, {\"Day\": \"2020-07-04T00:00:00\", \"Count\": 59, \"weekday\": 5, \"label\": \"Saturday \\n& Sunday\"}, {\"Day\": \"2020-07-05T00:00:00\", \"Count\": 100, \"weekday\": 6, \"label\": \"Saturday \\n& Sunday\"}, {\"Day\": \"2020-07-06T00:00:00\", \"Count\": 18, \"weekday\": 0, \"label\": \"Weekday\"}, {\"Day\": \"2020-07-07T00:00:00\", \"Count\": 17, \"weekday\": 1, \"label\": \"Weekday\"}, {\"Day\": \"2020-07-08T00:00:00\", \"Count\": 15, \"weekday\": 2, \"label\": \"Weekday\"}, {\"Day\": \"2020-07-09T00:00:00\", \"Count\": 13, \"weekday\": 3, \"label\": \"Weekday\"}, {\"Day\": \"2020-07-10T00:00:00\", \"Count\": 26, \"weekday\": 4, \"label\": \"Weekday\"}, {\"Day\": \"2020-07-11T00:00:00\", \"Count\": 43, \"weekday\": 5, \"label\": \"Saturday \\n& Sunday\"}, {\"Day\": \"2020-07-12T00:00:00\", \"Count\": 53, \"weekday\": 6, \"label\": \"Saturday \\n& Sunday\"}, {\"Day\": \"2020-07-13T00:00:00\", \"Count\": 24, \"weekday\": 0, \"label\": \"Weekday\"}, {\"Day\": \"2020-07-14T00:00:00\", \"Count\": 18, \"weekday\": 1, \"label\": \"Weekday\"}, {\"Day\": \"2020-07-15T00:00:00\", \"Count\": 12, \"weekday\": 2, \"label\": \"Weekday\"}, {\"Day\": \"2020-07-16T00:00:00\", \"Count\": 19, \"weekday\": 3, \"label\": \"Weekday\"}, {\"Day\": \"2020-07-17T00:00:00\", \"Count\": 11, \"weekday\": 4, \"label\": \"Weekday\"}, {\"Day\": \"2020-07-18T00:00:00\", \"Count\": 41, \"weekday\": 5, \"label\": \"Saturday \\n& Sunday\"}, {\"Day\": \"2020-07-19T00:00:00\", \"Count\": 55, \"weekday\": 6, \"label\": \"Saturday \\n& Sunday\"}, {\"Day\": \"2020-07-20T00:00:00\", \"Count\": 24, \"weekday\": 0, \"label\": \"Weekday\"}, {\"Day\": \"2020-07-21T00:00:00\", \"Count\": 16, \"weekday\": 1, \"label\": \"Weekday\"}, {\"Day\": \"2020-07-22T00:00:00\", \"Count\": 13, \"weekday\": 2, \"label\": \"Weekday\"}, {\"Day\": \"2020-07-23T00:00:00\", \"Count\": 12, \"weekday\": 3, \"label\": \"Weekday\"}, {\"Day\": \"2020-07-24T00:00:00\", \"Count\": 24, \"weekday\": 4, \"label\": \"Weekday\"}, {\"Day\": \"2020-07-25T00:00:00\", \"Count\": 58, \"weekday\": 5, \"label\": \"Saturday \\n& Sunday\"}, {\"Day\": \"2020-07-26T00:00:00\", \"Count\": 52, \"weekday\": 6, \"label\": \"Saturday \\n& Sunday\"}, {\"Day\": \"2020-07-27T00:00:00\", \"Count\": 23, \"weekday\": 0, \"label\": \"Weekday\"}, {\"Day\": \"2020-07-28T00:00:00\", \"Count\": 12, \"weekday\": 1, \"label\": \"Weekday\"}, {\"Day\": \"2020-07-29T00:00:00\", \"Count\": 18, \"weekday\": 2, \"label\": \"Weekday\"}, {\"Day\": \"2020-07-30T00:00:00\", \"Count\": 14, \"weekday\": 3, \"label\": \"Weekday\"}, {\"Day\": \"2020-07-31T00:00:00\", \"Count\": 17, \"weekday\": 4, \"label\": \"Weekday\"}, {\"Day\": \"2020-08-01T00:00:00\", \"Count\": 52, \"weekday\": 5, \"label\": \"Saturday \\n& Sunday\"}, {\"Day\": \"2020-08-02T00:00:00\", \"Count\": 55, \"weekday\": 6, \"label\": \"Saturday \\n& Sunday\"}, {\"Day\": \"2020-08-03T00:00:00\", \"Count\": 24, \"weekday\": 0, \"label\": \"Weekday\"}, {\"Day\": \"2020-08-04T00:00:00\", \"Count\": 11, \"weekday\": 1, \"label\": \"Weekday\"}, {\"Day\": \"2020-08-05T00:00:00\", \"Count\": 16, \"weekday\": 2, \"label\": \"Weekday\"}, {\"Day\": \"2020-08-06T00:00:00\", \"Count\": 18, \"weekday\": 3, \"label\": \"Weekday\"}, {\"Day\": \"2020-08-07T00:00:00\", \"Count\": 25, \"weekday\": 4, \"label\": \"Weekday\"}, {\"Day\": \"2020-08-08T00:00:00\", \"Count\": 42, \"weekday\": 5, \"label\": \"Saturday \\n& Sunday\"}, {\"Day\": \"2020-08-09T00:00:00\", \"Count\": 53, \"weekday\": 6, \"label\": \"Saturday \\n& Sunday\"}, {\"Day\": \"2020-08-10T00:00:00\", \"Count\": 22, \"weekday\": 0, \"label\": \"Weekday\"}, {\"Day\": \"2020-08-11T00:00:00\", \"Count\": 12, \"weekday\": 1, \"label\": \"Weekday\"}, {\"Day\": \"2020-08-12T00:00:00\", \"Count\": 11, \"weekday\": 2, \"label\": \"Weekday\"}, {\"Day\": \"2020-08-13T00:00:00\", \"Count\": 6, \"weekday\": 3, \"label\": \"Weekday\"}, {\"Day\": \"2020-08-14T00:00:00\", \"Count\": 21, \"weekday\": 4, \"label\": \"Weekday\"}, {\"Day\": \"2020-08-15T00:00:00\", \"Count\": 51, \"weekday\": 5, \"label\": \"Saturday \\n& Sunday\"}, {\"Day\": \"2020-08-16T00:00:00\", \"Count\": 55, \"weekday\": 6, \"label\": \"Saturday \\n& Sunday\"}, {\"Day\": \"2020-08-17T00:00:00\", \"Count\": 25, \"weekday\": 0, \"label\": \"Weekday\"}, {\"Day\": \"2020-08-18T00:00:00\", \"Count\": 15, \"weekday\": 1, \"label\": \"Weekday\"}, {\"Day\": \"2020-08-19T00:00:00\", \"Count\": 14, \"weekday\": 2, \"label\": \"Weekday\"}, {\"Day\": \"2020-08-20T00:00:00\", \"Count\": 40, \"weekday\": 3, \"label\": \"Weekday\"}, {\"Day\": \"2020-08-21T00:00:00\", \"Count\": 34, \"weekday\": 4, \"label\": \"Weekday\"}, {\"Day\": \"2020-08-22T00:00:00\", \"Count\": 58, \"weekday\": 5, \"label\": \"Saturday \\n& Sunday\"}, {\"Day\": \"2020-08-23T00:00:00\", \"Count\": 62, \"weekday\": 6, \"label\": \"Saturday \\n& Sunday\"}, {\"Day\": \"2020-08-24T00:00:00\", \"Count\": 33, \"weekday\": 0, \"label\": \"Weekday\"}, {\"Day\": \"2020-08-25T00:00:00\", \"Count\": 14, \"weekday\": 1, \"label\": \"Weekday\"}, {\"Day\": \"2020-08-26T00:00:00\", \"Count\": 16, \"weekday\": 2, \"label\": \"Weekday\"}, {\"Day\": \"2020-08-27T00:00:00\", \"Count\": 13, \"weekday\": 3, \"label\": \"Weekday\"}], \"data-1d8084f21a1411ad8a200f0dd5d02e4d\": [{\"Day\": \"2020-05-30T00:00:00\", \"Count\": 100}, {\"Day\": \"2020-05-31T00:00:00\", \"Count\": 100}, {\"Day\": \"2020-06-06T00:00:00\", \"Count\": 100}, {\"Day\": \"2020-06-07T00:00:00\", \"Count\": 100}, {\"Day\": \"2020-06-13T00:00:00\", \"Count\": 100}, {\"Day\": \"2020-06-14T00:00:00\", \"Count\": 100}, {\"Day\": \"2020-06-20T00:00:00\", \"Count\": 100}, {\"Day\": \"2020-06-21T00:00:00\", \"Count\": 100}, {\"Day\": \"2020-06-27T00:00:00\", \"Count\": 100}, {\"Day\": \"2020-06-28T00:00:00\", \"Count\": 100}, {\"Day\": \"2020-07-04T00:00:00\", \"Count\": 100}, {\"Day\": \"2020-07-05T00:00:00\", \"Count\": 100}, {\"Day\": \"2020-07-11T00:00:00\", \"Count\": 100}, {\"Day\": \"2020-07-12T00:00:00\", \"Count\": 100}, {\"Day\": \"2020-07-18T00:00:00\", \"Count\": 100}, {\"Day\": \"2020-07-19T00:00:00\", \"Count\": 100}, {\"Day\": \"2020-07-25T00:00:00\", \"Count\": 100}, {\"Day\": \"2020-07-26T00:00:00\", \"Count\": 100}, {\"Day\": \"2020-08-01T00:00:00\", \"Count\": 100}, {\"Day\": \"2020-08-02T00:00:00\", \"Count\": 100}, {\"Day\": \"2020-08-08T00:00:00\", \"Count\": 100}, {\"Day\": \"2020-08-09T00:00:00\", \"Count\": 100}, {\"Day\": \"2020-08-15T00:00:00\", \"Count\": 100}, {\"Day\": \"2020-08-16T00:00:00\", \"Count\": 100}, {\"Day\": \"2020-08-22T00:00:00\", \"Count\": 100}, {\"Day\": \"2020-08-23T00:00:00\", \"Count\": 100}]}}, {\"mode\": \"vega-lite\"});\n",
       "</script>"
      ],
      "text/plain": [
       "alt.LayerChart(...)"
      ]
     },
     "execution_count": 31,
     "metadata": {},
     "output_type": "execute_result"
    }
   ],
   "source": [
    "base = alt.Chart(df).mark_line(color=\"black\").encode(\n",
    "    alt.X('Day:T', axis=alt.Axis(title=\"\", format=(\"%b %d\"), labelAngle=-45, grid=False)),\n",
    "    alt.Y('Count:Q', title=\"Google Search Volume (Indexed, 100 = Maximum)\", axis=alt.Axis(grid=False))\n",
    ").properties(\n",
    "    title=\"Data is Beautiful. Hangovers Are Not\",\n",
    "    width=1000,\n",
    "    height=500\n",
    ")\n",
    "\n",
    "\n",
    "bar = alt.Chart(x_tick_values).mark_bar(size=12, opacity=0.2).encode(\n",
    "    alt.X('Day:T'),\n",
    "    alt.Y('Count:Q')\n",
    ")\n",
    "\n",
    "\n",
    "base + bar"
   ]
  },
  {
   "cell_type": "markdown",
   "metadata": {},
   "source": [
    "And, now we can add the annotation as well"
   ]
  },
  {
   "cell_type": "code",
   "execution_count": 36,
   "metadata": {},
   "outputs": [
    {
     "data": {
      "text/html": [
       "\n",
       "<div id=\"altair-viz-53ed27b2fae644499ced72d419d1d4e1\"></div>\n",
       "<script type=\"text/javascript\">\n",
       "  (function(spec, embedOpt){\n",
       "    let outputDiv = document.currentScript.previousElementSibling;\n",
       "    if (outputDiv.id !== \"altair-viz-53ed27b2fae644499ced72d419d1d4e1\") {\n",
       "      outputDiv = document.getElementById(\"altair-viz-53ed27b2fae644499ced72d419d1d4e1\");\n",
       "    }\n",
       "    const paths = {\n",
       "      \"vega\": \"https://cdn.jsdelivr.net/npm//vega@5?noext\",\n",
       "      \"vega-lib\": \"https://cdn.jsdelivr.net/npm//vega-lib?noext\",\n",
       "      \"vega-lite\": \"https://cdn.jsdelivr.net/npm//vega-lite@4.8.1?noext\",\n",
       "      \"vega-embed\": \"https://cdn.jsdelivr.net/npm//vega-embed@6?noext\",\n",
       "    };\n",
       "\n",
       "    function loadScript(lib) {\n",
       "      return new Promise(function(resolve, reject) {\n",
       "        var s = document.createElement('script');\n",
       "        s.src = paths[lib];\n",
       "        s.async = true;\n",
       "        s.onload = () => resolve(paths[lib]);\n",
       "        s.onerror = () => reject(`Error loading script: ${paths[lib]}`);\n",
       "        document.getElementsByTagName(\"head\")[0].appendChild(s);\n",
       "      });\n",
       "    }\n",
       "\n",
       "    function showError(err) {\n",
       "      outputDiv.innerHTML = `<div class=\"error\" style=\"color:red;\">${err}</div>`;\n",
       "      throw err;\n",
       "    }\n",
       "\n",
       "    function displayChart(vegaEmbed) {\n",
       "      vegaEmbed(outputDiv, spec, embedOpt)\n",
       "        .catch(err => showError(`Javascript Error: ${err.message}<br>This usually means there's a typo in your chart specification. See the javascript console for the full traceback.`));\n",
       "    }\n",
       "\n",
       "    if(typeof define === \"function\" && define.amd) {\n",
       "      requirejs.config({paths});\n",
       "      require([\"vega-embed\"], displayChart, err => showError(`Error loading script: ${err.message}`));\n",
       "    } else if (typeof vegaEmbed === \"function\") {\n",
       "      displayChart(vegaEmbed);\n",
       "    } else {\n",
       "      loadScript(\"vega\")\n",
       "        .then(() => loadScript(\"vega-lite\"))\n",
       "        .then(() => loadScript(\"vega-embed\"))\n",
       "        .catch(showError)\n",
       "        .then(() => displayChart(vegaEmbed));\n",
       "    }\n",
       "  })({\"config\": {\"view\": {\"continuousWidth\": 400, \"continuousHeight\": 300}}, \"layer\": [{\"data\": {\"name\": \"data-4968d534fe40da61815f940442ba9fe3\"}, \"mark\": {\"type\": \"line\", \"color\": \"black\"}, \"encoding\": {\"x\": {\"type\": \"temporal\", \"axis\": {\"format\": \"%b %d\", \"grid\": false, \"labelAngle\": -45, \"title\": \"\"}, \"field\": \"Day\"}, \"y\": {\"type\": \"quantitative\", \"axis\": {\"grid\": false}, \"field\": \"Count\", \"title\": \"Google Search Volume (Indexed, 100 = Maximum)\"}}, \"height\": 500, \"title\": \"Data is Beautiful. Hangovers Are Not\", \"width\": 1000}, {\"data\": {\"name\": \"data-1d8084f21a1411ad8a200f0dd5d02e4d\"}, \"mark\": {\"type\": \"bar\", \"opacity\": 0.2, \"size\": 12}, \"encoding\": {\"x\": {\"type\": \"temporal\", \"field\": \"Day\"}, \"y\": {\"type\": \"quantitative\", \"field\": \"Count\"}}}, {\"data\": {\"name\": \"data-c53cc984476594f91b0e4bd7f103b3e5\"}, \"mark\": {\"type\": \"text\", \"color\": \"#4F61A1\", \"dy\": 280}, \"encoding\": {\"text\": {\"type\": \"nominal\", \"field\": \"label\"}, \"x\": {\"type\": \"temporal\", \"field\": \"Day\"}, \"y\": {\"type\": \"quantitative\", \"field\": \"Count\"}}}], \"$schema\": \"https://vega.github.io/schema/vega-lite/v4.8.1.json\", \"datasets\": {\"data-4968d534fe40da61815f940442ba9fe3\": [{\"Day\": \"2020-05-30T00:00:00\", \"Count\": 55, \"weekday\": 5, \"label\": \"Saturday \\n& Sunday\"}, {\"Day\": \"2020-05-31T00:00:00\", \"Count\": 57, \"weekday\": 6, \"label\": \"Saturday \\n& Sunday\"}, {\"Day\": \"2020-06-01T00:00:00\", \"Count\": 20, \"weekday\": 0, \"label\": \"Weekday\"}, {\"Day\": \"2020-06-02T00:00:00\", \"Count\": 12, \"weekday\": 1, \"label\": \"Weekday\"}, {\"Day\": \"2020-06-03T00:00:00\", \"Count\": 16, \"weekday\": 2, \"label\": \"Weekday\"}, {\"Day\": \"2020-06-04T00:00:00\", \"Count\": 18, \"weekday\": 3, \"label\": \"Weekday\"}, {\"Day\": \"2020-06-05T00:00:00\", \"Count\": 19, \"weekday\": 4, \"label\": \"Weekday\"}, {\"Day\": \"2020-06-06T00:00:00\", \"Count\": 40, \"weekday\": 5, \"label\": \"Saturday \\n& Sunday\"}, {\"Day\": \"2020-06-07T00:00:00\", \"Count\": 60, \"weekday\": 6, \"label\": \"Saturday \\n& Sunday\"}, {\"Day\": \"2020-06-08T00:00:00\", \"Count\": 29, \"weekday\": 0, \"label\": \"Weekday\"}, {\"Day\": \"2020-06-09T00:00:00\", \"Count\": 20, \"weekday\": 1, \"label\": \"Weekday\"}, {\"Day\": \"2020-06-10T00:00:00\", \"Count\": 12, \"weekday\": 2, \"label\": \"Weekday\"}, {\"Day\": \"2020-06-11T00:00:00\", \"Count\": 10, \"weekday\": 3, \"label\": \"Weekday\"}, {\"Day\": \"2020-06-12T00:00:00\", \"Count\": 22, \"weekday\": 4, \"label\": \"Weekday\"}, {\"Day\": \"2020-06-13T00:00:00\", \"Count\": 46, \"weekday\": 5, \"label\": \"Saturday \\n& Sunday\"}, {\"Day\": \"2020-06-14T00:00:00\", \"Count\": 78, \"weekday\": 6, \"label\": \"Saturday \\n& Sunday\"}, {\"Day\": \"2020-06-15T00:00:00\", \"Count\": 26, \"weekday\": 0, \"label\": \"Weekday\"}, {\"Day\": \"2020-06-16T00:00:00\", \"Count\": 16, \"weekday\": 1, \"label\": \"Weekday\"}, {\"Day\": \"2020-06-17T00:00:00\", \"Count\": 21, \"weekday\": 2, \"label\": \"Weekday\"}, {\"Day\": \"2020-06-18T00:00:00\", \"Count\": 16, \"weekday\": 3, \"label\": \"Weekday\"}, {\"Day\": \"2020-06-19T00:00:00\", \"Count\": 19, \"weekday\": 4, \"label\": \"Weekday\"}, {\"Day\": \"2020-06-20T00:00:00\", \"Count\": 58, \"weekday\": 5, \"label\": \"Saturday \\n& Sunday\"}, {\"Day\": \"2020-06-21T00:00:00\", \"Count\": 70, \"weekday\": 6, \"label\": \"Saturday \\n& Sunday\"}, {\"Day\": \"2020-06-22T00:00:00\", \"Count\": 22, \"weekday\": 0, \"label\": \"Weekday\"}, {\"Day\": \"2020-06-23T00:00:00\", \"Count\": 18, \"weekday\": 1, \"label\": \"Weekday\"}, {\"Day\": \"2020-06-24T00:00:00\", \"Count\": 22, \"weekday\": 2, \"label\": \"Weekday\"}, {\"Day\": \"2020-06-25T00:00:00\", \"Count\": 20, \"weekday\": 3, \"label\": \"Weekday\"}, {\"Day\": \"2020-06-26T00:00:00\", \"Count\": 20, \"weekday\": 4, \"label\": \"Weekday\"}, {\"Day\": \"2020-06-27T00:00:00\", \"Count\": 43, \"weekday\": 5, \"label\": \"Saturday \\n& Sunday\"}, {\"Day\": \"2020-06-28T00:00:00\", \"Count\": 55, \"weekday\": 6, \"label\": \"Saturday \\n& Sunday\"}, {\"Day\": \"2020-06-29T00:00:00\", \"Count\": 23, \"weekday\": 0, \"label\": \"Weekday\"}, {\"Day\": \"2020-06-30T00:00:00\", \"Count\": 14, \"weekday\": 1, \"label\": \"Weekday\"}, {\"Day\": \"2020-07-01T00:00:00\", \"Count\": 25, \"weekday\": 2, \"label\": \"Weekday\"}, {\"Day\": \"2020-07-02T00:00:00\", \"Count\": 25, \"weekday\": 3, \"label\": \"Weekday\"}, {\"Day\": \"2020-07-03T00:00:00\", \"Count\": 35, \"weekday\": 4, \"label\": \"Weekday\"}, {\"Day\": \"2020-07-04T00:00:00\", \"Count\": 59, \"weekday\": 5, \"label\": \"Saturday \\n& Sunday\"}, {\"Day\": \"2020-07-05T00:00:00\", \"Count\": 100, \"weekday\": 6, \"label\": \"Saturday \\n& Sunday\"}, {\"Day\": \"2020-07-06T00:00:00\", \"Count\": 18, \"weekday\": 0, \"label\": \"Weekday\"}, {\"Day\": \"2020-07-07T00:00:00\", \"Count\": 17, \"weekday\": 1, \"label\": \"Weekday\"}, {\"Day\": \"2020-07-08T00:00:00\", \"Count\": 15, \"weekday\": 2, \"label\": \"Weekday\"}, {\"Day\": \"2020-07-09T00:00:00\", \"Count\": 13, \"weekday\": 3, \"label\": \"Weekday\"}, {\"Day\": \"2020-07-10T00:00:00\", \"Count\": 26, \"weekday\": 4, \"label\": \"Weekday\"}, {\"Day\": \"2020-07-11T00:00:00\", \"Count\": 43, \"weekday\": 5, \"label\": \"Saturday \\n& Sunday\"}, {\"Day\": \"2020-07-12T00:00:00\", \"Count\": 53, \"weekday\": 6, \"label\": \"Saturday \\n& Sunday\"}, {\"Day\": \"2020-07-13T00:00:00\", \"Count\": 24, \"weekday\": 0, \"label\": \"Weekday\"}, {\"Day\": \"2020-07-14T00:00:00\", \"Count\": 18, \"weekday\": 1, \"label\": \"Weekday\"}, {\"Day\": \"2020-07-15T00:00:00\", \"Count\": 12, \"weekday\": 2, \"label\": \"Weekday\"}, {\"Day\": \"2020-07-16T00:00:00\", \"Count\": 19, \"weekday\": 3, \"label\": \"Weekday\"}, {\"Day\": \"2020-07-17T00:00:00\", \"Count\": 11, \"weekday\": 4, \"label\": \"Weekday\"}, {\"Day\": \"2020-07-18T00:00:00\", \"Count\": 41, \"weekday\": 5, \"label\": \"Saturday \\n& Sunday\"}, {\"Day\": \"2020-07-19T00:00:00\", \"Count\": 55, \"weekday\": 6, \"label\": \"Saturday \\n& Sunday\"}, {\"Day\": \"2020-07-20T00:00:00\", \"Count\": 24, \"weekday\": 0, \"label\": \"Weekday\"}, {\"Day\": \"2020-07-21T00:00:00\", \"Count\": 16, \"weekday\": 1, \"label\": \"Weekday\"}, {\"Day\": \"2020-07-22T00:00:00\", \"Count\": 13, \"weekday\": 2, \"label\": \"Weekday\"}, {\"Day\": \"2020-07-23T00:00:00\", \"Count\": 12, \"weekday\": 3, \"label\": \"Weekday\"}, {\"Day\": \"2020-07-24T00:00:00\", \"Count\": 24, \"weekday\": 4, \"label\": \"Weekday\"}, {\"Day\": \"2020-07-25T00:00:00\", \"Count\": 58, \"weekday\": 5, \"label\": \"Saturday \\n& Sunday\"}, {\"Day\": \"2020-07-26T00:00:00\", \"Count\": 52, \"weekday\": 6, \"label\": \"Saturday \\n& Sunday\"}, {\"Day\": \"2020-07-27T00:00:00\", \"Count\": 23, \"weekday\": 0, \"label\": \"Weekday\"}, {\"Day\": \"2020-07-28T00:00:00\", \"Count\": 12, \"weekday\": 1, \"label\": \"Weekday\"}, {\"Day\": \"2020-07-29T00:00:00\", \"Count\": 18, \"weekday\": 2, \"label\": \"Weekday\"}, {\"Day\": \"2020-07-30T00:00:00\", \"Count\": 14, \"weekday\": 3, \"label\": \"Weekday\"}, {\"Day\": \"2020-07-31T00:00:00\", \"Count\": 17, \"weekday\": 4, \"label\": \"Weekday\"}, {\"Day\": \"2020-08-01T00:00:00\", \"Count\": 52, \"weekday\": 5, \"label\": \"Saturday \\n& Sunday\"}, {\"Day\": \"2020-08-02T00:00:00\", \"Count\": 55, \"weekday\": 6, \"label\": \"Saturday \\n& Sunday\"}, {\"Day\": \"2020-08-03T00:00:00\", \"Count\": 24, \"weekday\": 0, \"label\": \"Weekday\"}, {\"Day\": \"2020-08-04T00:00:00\", \"Count\": 11, \"weekday\": 1, \"label\": \"Weekday\"}, {\"Day\": \"2020-08-05T00:00:00\", \"Count\": 16, \"weekday\": 2, \"label\": \"Weekday\"}, {\"Day\": \"2020-08-06T00:00:00\", \"Count\": 18, \"weekday\": 3, \"label\": \"Weekday\"}, {\"Day\": \"2020-08-07T00:00:00\", \"Count\": 25, \"weekday\": 4, \"label\": \"Weekday\"}, {\"Day\": \"2020-08-08T00:00:00\", \"Count\": 42, \"weekday\": 5, \"label\": \"Saturday \\n& Sunday\"}, {\"Day\": \"2020-08-09T00:00:00\", \"Count\": 53, \"weekday\": 6, \"label\": \"Saturday \\n& Sunday\"}, {\"Day\": \"2020-08-10T00:00:00\", \"Count\": 22, \"weekday\": 0, \"label\": \"Weekday\"}, {\"Day\": \"2020-08-11T00:00:00\", \"Count\": 12, \"weekday\": 1, \"label\": \"Weekday\"}, {\"Day\": \"2020-08-12T00:00:00\", \"Count\": 11, \"weekday\": 2, \"label\": \"Weekday\"}, {\"Day\": \"2020-08-13T00:00:00\", \"Count\": 6, \"weekday\": 3, \"label\": \"Weekday\"}, {\"Day\": \"2020-08-14T00:00:00\", \"Count\": 21, \"weekday\": 4, \"label\": \"Weekday\"}, {\"Day\": \"2020-08-15T00:00:00\", \"Count\": 51, \"weekday\": 5, \"label\": \"Saturday \\n& Sunday\"}, {\"Day\": \"2020-08-16T00:00:00\", \"Count\": 55, \"weekday\": 6, \"label\": \"Saturday \\n& Sunday\"}, {\"Day\": \"2020-08-17T00:00:00\", \"Count\": 25, \"weekday\": 0, \"label\": \"Weekday\"}, {\"Day\": \"2020-08-18T00:00:00\", \"Count\": 15, \"weekday\": 1, \"label\": \"Weekday\"}, {\"Day\": \"2020-08-19T00:00:00\", \"Count\": 14, \"weekday\": 2, \"label\": \"Weekday\"}, {\"Day\": \"2020-08-20T00:00:00\", \"Count\": 40, \"weekday\": 3, \"label\": \"Weekday\"}, {\"Day\": \"2020-08-21T00:00:00\", \"Count\": 34, \"weekday\": 4, \"label\": \"Weekday\"}, {\"Day\": \"2020-08-22T00:00:00\", \"Count\": 58, \"weekday\": 5, \"label\": \"Saturday \\n& Sunday\"}, {\"Day\": \"2020-08-23T00:00:00\", \"Count\": 62, \"weekday\": 6, \"label\": \"Saturday \\n& Sunday\"}, {\"Day\": \"2020-08-24T00:00:00\", \"Count\": 33, \"weekday\": 0, \"label\": \"Weekday\"}, {\"Day\": \"2020-08-25T00:00:00\", \"Count\": 14, \"weekday\": 1, \"label\": \"Weekday\"}, {\"Day\": \"2020-08-26T00:00:00\", \"Count\": 16, \"weekday\": 2, \"label\": \"Weekday\"}, {\"Day\": \"2020-08-27T00:00:00\", \"Count\": 13, \"weekday\": 3, \"label\": \"Weekday\"}], \"data-1d8084f21a1411ad8a200f0dd5d02e4d\": [{\"Day\": \"2020-05-30T00:00:00\", \"Count\": 100}, {\"Day\": \"2020-05-31T00:00:00\", \"Count\": 100}, {\"Day\": \"2020-06-06T00:00:00\", \"Count\": 100}, {\"Day\": \"2020-06-07T00:00:00\", \"Count\": 100}, {\"Day\": \"2020-06-13T00:00:00\", \"Count\": 100}, {\"Day\": \"2020-06-14T00:00:00\", \"Count\": 100}, {\"Day\": \"2020-06-20T00:00:00\", \"Count\": 100}, {\"Day\": \"2020-06-21T00:00:00\", \"Count\": 100}, {\"Day\": \"2020-06-27T00:00:00\", \"Count\": 100}, {\"Day\": \"2020-06-28T00:00:00\", \"Count\": 100}, {\"Day\": \"2020-07-04T00:00:00\", \"Count\": 100}, {\"Day\": \"2020-07-05T00:00:00\", \"Count\": 100}, {\"Day\": \"2020-07-11T00:00:00\", \"Count\": 100}, {\"Day\": \"2020-07-12T00:00:00\", \"Count\": 100}, {\"Day\": \"2020-07-18T00:00:00\", \"Count\": 100}, {\"Day\": \"2020-07-19T00:00:00\", \"Count\": 100}, {\"Day\": \"2020-07-25T00:00:00\", \"Count\": 100}, {\"Day\": \"2020-07-26T00:00:00\", \"Count\": 100}, {\"Day\": \"2020-08-01T00:00:00\", \"Count\": 100}, {\"Day\": \"2020-08-02T00:00:00\", \"Count\": 100}, {\"Day\": \"2020-08-08T00:00:00\", \"Count\": 100}, {\"Day\": \"2020-08-09T00:00:00\", \"Count\": 100}, {\"Day\": \"2020-08-15T00:00:00\", \"Count\": 100}, {\"Day\": \"2020-08-16T00:00:00\", \"Count\": 100}, {\"Day\": \"2020-08-22T00:00:00\", \"Count\": 100}, {\"Day\": \"2020-08-23T00:00:00\", \"Count\": 100}], \"data-c53cc984476594f91b0e4bd7f103b3e5\": [{\"Day\": \"2020-06-21T00:00:00\", \"Count\": 70, \"weekday\": 6, \"label\": \"Saturday \\n& Sunday\"}]}}, {\"mode\": \"vega-lite\"});\n",
       "</script>"
      ],
      "text/plain": [
       "alt.LayerChart(...)"
      ]
     },
     "execution_count": 36,
     "metadata": {},
     "output_type": "execute_result"
    }
   ],
   "source": [
    "text = (\n",
    "    alt.Chart(df.query(\"Day == '2020-06-21'\"))\n",
    "    .mark_text(dy=280, color=\"#4F61A1\")\n",
    "    .encode(x=alt.X(\"Day:T\"), y=alt.Y(\"Count:Q\"), text=alt.Text(\"label\"))\n",
    ")\n",
    "\n",
    "c = base + bar + text\n",
    "c"
   ]
  },
  {
   "cell_type": "markdown",
   "metadata": {},
   "source": [
    "And some final touches to the plot."
   ]
  },
  {
   "cell_type": "code",
   "execution_count": 42,
   "metadata": {},
   "outputs": [
    {
     "data": {
      "text/html": [
       "\n",
       "<div id=\"altair-viz-cb4d46d1a3d34bc99e2d3e1141ee32ac\"></div>\n",
       "<script type=\"text/javascript\">\n",
       "  (function(spec, embedOpt){\n",
       "    let outputDiv = document.currentScript.previousElementSibling;\n",
       "    if (outputDiv.id !== \"altair-viz-cb4d46d1a3d34bc99e2d3e1141ee32ac\") {\n",
       "      outputDiv = document.getElementById(\"altair-viz-cb4d46d1a3d34bc99e2d3e1141ee32ac\");\n",
       "    }\n",
       "    const paths = {\n",
       "      \"vega\": \"https://cdn.jsdelivr.net/npm//vega@5?noext\",\n",
       "      \"vega-lib\": \"https://cdn.jsdelivr.net/npm//vega-lib?noext\",\n",
       "      \"vega-lite\": \"https://cdn.jsdelivr.net/npm//vega-lite@4.8.1?noext\",\n",
       "      \"vega-embed\": \"https://cdn.jsdelivr.net/npm//vega-embed@6?noext\",\n",
       "    };\n",
       "\n",
       "    function loadScript(lib) {\n",
       "      return new Promise(function(resolve, reject) {\n",
       "        var s = document.createElement('script');\n",
       "        s.src = paths[lib];\n",
       "        s.async = true;\n",
       "        s.onload = () => resolve(paths[lib]);\n",
       "        s.onerror = () => reject(`Error loading script: ${paths[lib]}`);\n",
       "        document.getElementsByTagName(\"head\")[0].appendChild(s);\n",
       "      });\n",
       "    }\n",
       "\n",
       "    function showError(err) {\n",
       "      outputDiv.innerHTML = `<div class=\"error\" style=\"color:red;\">${err}</div>`;\n",
       "      throw err;\n",
       "    }\n",
       "\n",
       "    function displayChart(vegaEmbed) {\n",
       "      vegaEmbed(outputDiv, spec, embedOpt)\n",
       "        .catch(err => showError(`Javascript Error: ${err.message}<br>This usually means there's a typo in your chart specification. See the javascript console for the full traceback.`));\n",
       "    }\n",
       "\n",
       "    if(typeof define === \"function\" && define.amd) {\n",
       "      requirejs.config({paths});\n",
       "      require([\"vega-embed\"], displayChart, err => showError(`Error loading script: ${err.message}`));\n",
       "    } else if (typeof vegaEmbed === \"function\") {\n",
       "      displayChart(vegaEmbed);\n",
       "    } else {\n",
       "      loadScript(\"vega\")\n",
       "        .then(() => loadScript(\"vega-lite\"))\n",
       "        .then(() => loadScript(\"vega-embed\"))\n",
       "        .catch(showError)\n",
       "        .then(() => displayChart(vegaEmbed));\n",
       "    }\n",
       "  })({\"config\": {\"view\": {\"continuousWidth\": 400, \"continuousHeight\": 300}, \"title\": {\"color\": \"darkblue\", \"fontSize\": 32}}, \"layer\": [{\"data\": {\"name\": \"data-4968d534fe40da61815f940442ba9fe3\"}, \"mark\": {\"type\": \"line\", \"color\": \"black\"}, \"encoding\": {\"x\": {\"type\": \"temporal\", \"axis\": {\"format\": \"%b %d\", \"grid\": false, \"labelAngle\": -45, \"title\": \"\"}, \"field\": \"Day\"}, \"y\": {\"type\": \"quantitative\", \"axis\": {\"grid\": false}, \"field\": \"Count\", \"title\": \"Google Search Volume (Indexed, 100 = Maximum)\"}}, \"height\": 500, \"title\": \"Data is Beautiful. Hangovers Are Not\", \"width\": 1000}, {\"data\": {\"name\": \"data-1d8084f21a1411ad8a200f0dd5d02e4d\"}, \"mark\": {\"type\": \"bar\", \"opacity\": 0.2, \"size\": 12}, \"encoding\": {\"x\": {\"type\": \"temporal\", \"field\": \"Day\"}, \"y\": {\"type\": \"quantitative\", \"field\": \"Count\"}}}, {\"data\": {\"name\": \"data-c53cc984476594f91b0e4bd7f103b3e5\"}, \"mark\": {\"type\": \"text\", \"color\": \"#4F61A1\", \"dy\": 280}, \"encoding\": {\"text\": {\"type\": \"nominal\", \"field\": \"label\"}, \"x\": {\"type\": \"temporal\", \"field\": \"Day\"}, \"y\": {\"type\": \"quantitative\", \"field\": \"Count\"}}}], \"title\": {\"text\": \"Data is Beautiful. Hangovers Are Not\", \"subtitle\": \"[Google Search Volume for \\\"hangover cure\\\"]\"}, \"$schema\": \"https://vega.github.io/schema/vega-lite/v4.8.1.json\", \"datasets\": {\"data-4968d534fe40da61815f940442ba9fe3\": [{\"Day\": \"2020-05-30T00:00:00\", \"Count\": 55, \"weekday\": 5, \"label\": \"Saturday \\n& Sunday\"}, {\"Day\": \"2020-05-31T00:00:00\", \"Count\": 57, \"weekday\": 6, \"label\": \"Saturday \\n& Sunday\"}, {\"Day\": \"2020-06-01T00:00:00\", \"Count\": 20, \"weekday\": 0, \"label\": \"Weekday\"}, {\"Day\": \"2020-06-02T00:00:00\", \"Count\": 12, \"weekday\": 1, \"label\": \"Weekday\"}, {\"Day\": \"2020-06-03T00:00:00\", \"Count\": 16, \"weekday\": 2, \"label\": \"Weekday\"}, {\"Day\": \"2020-06-04T00:00:00\", \"Count\": 18, \"weekday\": 3, \"label\": \"Weekday\"}, {\"Day\": \"2020-06-05T00:00:00\", \"Count\": 19, \"weekday\": 4, \"label\": \"Weekday\"}, {\"Day\": \"2020-06-06T00:00:00\", \"Count\": 40, \"weekday\": 5, \"label\": \"Saturday \\n& Sunday\"}, {\"Day\": \"2020-06-07T00:00:00\", \"Count\": 60, \"weekday\": 6, \"label\": \"Saturday \\n& Sunday\"}, {\"Day\": \"2020-06-08T00:00:00\", \"Count\": 29, \"weekday\": 0, \"label\": \"Weekday\"}, {\"Day\": \"2020-06-09T00:00:00\", \"Count\": 20, \"weekday\": 1, \"label\": \"Weekday\"}, {\"Day\": \"2020-06-10T00:00:00\", \"Count\": 12, \"weekday\": 2, \"label\": \"Weekday\"}, {\"Day\": \"2020-06-11T00:00:00\", \"Count\": 10, \"weekday\": 3, \"label\": \"Weekday\"}, {\"Day\": \"2020-06-12T00:00:00\", \"Count\": 22, \"weekday\": 4, \"label\": \"Weekday\"}, {\"Day\": \"2020-06-13T00:00:00\", \"Count\": 46, \"weekday\": 5, \"label\": \"Saturday \\n& Sunday\"}, {\"Day\": \"2020-06-14T00:00:00\", \"Count\": 78, \"weekday\": 6, \"label\": \"Saturday \\n& Sunday\"}, {\"Day\": \"2020-06-15T00:00:00\", \"Count\": 26, \"weekday\": 0, \"label\": \"Weekday\"}, {\"Day\": \"2020-06-16T00:00:00\", \"Count\": 16, \"weekday\": 1, \"label\": \"Weekday\"}, {\"Day\": \"2020-06-17T00:00:00\", \"Count\": 21, \"weekday\": 2, \"label\": \"Weekday\"}, {\"Day\": \"2020-06-18T00:00:00\", \"Count\": 16, \"weekday\": 3, \"label\": \"Weekday\"}, {\"Day\": \"2020-06-19T00:00:00\", \"Count\": 19, \"weekday\": 4, \"label\": \"Weekday\"}, {\"Day\": \"2020-06-20T00:00:00\", \"Count\": 58, \"weekday\": 5, \"label\": \"Saturday \\n& Sunday\"}, {\"Day\": \"2020-06-21T00:00:00\", \"Count\": 70, \"weekday\": 6, \"label\": \"Saturday \\n& Sunday\"}, {\"Day\": \"2020-06-22T00:00:00\", \"Count\": 22, \"weekday\": 0, \"label\": \"Weekday\"}, {\"Day\": \"2020-06-23T00:00:00\", \"Count\": 18, \"weekday\": 1, \"label\": \"Weekday\"}, {\"Day\": \"2020-06-24T00:00:00\", \"Count\": 22, \"weekday\": 2, \"label\": \"Weekday\"}, {\"Day\": \"2020-06-25T00:00:00\", \"Count\": 20, \"weekday\": 3, \"label\": \"Weekday\"}, {\"Day\": \"2020-06-26T00:00:00\", \"Count\": 20, \"weekday\": 4, \"label\": \"Weekday\"}, {\"Day\": \"2020-06-27T00:00:00\", \"Count\": 43, \"weekday\": 5, \"label\": \"Saturday \\n& Sunday\"}, {\"Day\": \"2020-06-28T00:00:00\", \"Count\": 55, \"weekday\": 6, \"label\": \"Saturday \\n& Sunday\"}, {\"Day\": \"2020-06-29T00:00:00\", \"Count\": 23, \"weekday\": 0, \"label\": \"Weekday\"}, {\"Day\": \"2020-06-30T00:00:00\", \"Count\": 14, \"weekday\": 1, \"label\": \"Weekday\"}, {\"Day\": \"2020-07-01T00:00:00\", \"Count\": 25, \"weekday\": 2, \"label\": \"Weekday\"}, {\"Day\": \"2020-07-02T00:00:00\", \"Count\": 25, \"weekday\": 3, \"label\": \"Weekday\"}, {\"Day\": \"2020-07-03T00:00:00\", \"Count\": 35, \"weekday\": 4, \"label\": \"Weekday\"}, {\"Day\": \"2020-07-04T00:00:00\", \"Count\": 59, \"weekday\": 5, \"label\": \"Saturday \\n& Sunday\"}, {\"Day\": \"2020-07-05T00:00:00\", \"Count\": 100, \"weekday\": 6, \"label\": \"Saturday \\n& Sunday\"}, {\"Day\": \"2020-07-06T00:00:00\", \"Count\": 18, \"weekday\": 0, \"label\": \"Weekday\"}, {\"Day\": \"2020-07-07T00:00:00\", \"Count\": 17, \"weekday\": 1, \"label\": \"Weekday\"}, {\"Day\": \"2020-07-08T00:00:00\", \"Count\": 15, \"weekday\": 2, \"label\": \"Weekday\"}, {\"Day\": \"2020-07-09T00:00:00\", \"Count\": 13, \"weekday\": 3, \"label\": \"Weekday\"}, {\"Day\": \"2020-07-10T00:00:00\", \"Count\": 26, \"weekday\": 4, \"label\": \"Weekday\"}, {\"Day\": \"2020-07-11T00:00:00\", \"Count\": 43, \"weekday\": 5, \"label\": \"Saturday \\n& Sunday\"}, {\"Day\": \"2020-07-12T00:00:00\", \"Count\": 53, \"weekday\": 6, \"label\": \"Saturday \\n& Sunday\"}, {\"Day\": \"2020-07-13T00:00:00\", \"Count\": 24, \"weekday\": 0, \"label\": \"Weekday\"}, {\"Day\": \"2020-07-14T00:00:00\", \"Count\": 18, \"weekday\": 1, \"label\": \"Weekday\"}, {\"Day\": \"2020-07-15T00:00:00\", \"Count\": 12, \"weekday\": 2, \"label\": \"Weekday\"}, {\"Day\": \"2020-07-16T00:00:00\", \"Count\": 19, \"weekday\": 3, \"label\": \"Weekday\"}, {\"Day\": \"2020-07-17T00:00:00\", \"Count\": 11, \"weekday\": 4, \"label\": \"Weekday\"}, {\"Day\": \"2020-07-18T00:00:00\", \"Count\": 41, \"weekday\": 5, \"label\": \"Saturday \\n& Sunday\"}, {\"Day\": \"2020-07-19T00:00:00\", \"Count\": 55, \"weekday\": 6, \"label\": \"Saturday \\n& Sunday\"}, {\"Day\": \"2020-07-20T00:00:00\", \"Count\": 24, \"weekday\": 0, \"label\": \"Weekday\"}, {\"Day\": \"2020-07-21T00:00:00\", \"Count\": 16, \"weekday\": 1, \"label\": \"Weekday\"}, {\"Day\": \"2020-07-22T00:00:00\", \"Count\": 13, \"weekday\": 2, \"label\": \"Weekday\"}, {\"Day\": \"2020-07-23T00:00:00\", \"Count\": 12, \"weekday\": 3, \"label\": \"Weekday\"}, {\"Day\": \"2020-07-24T00:00:00\", \"Count\": 24, \"weekday\": 4, \"label\": \"Weekday\"}, {\"Day\": \"2020-07-25T00:00:00\", \"Count\": 58, \"weekday\": 5, \"label\": \"Saturday \\n& Sunday\"}, {\"Day\": \"2020-07-26T00:00:00\", \"Count\": 52, \"weekday\": 6, \"label\": \"Saturday \\n& Sunday\"}, {\"Day\": \"2020-07-27T00:00:00\", \"Count\": 23, \"weekday\": 0, \"label\": \"Weekday\"}, {\"Day\": \"2020-07-28T00:00:00\", \"Count\": 12, \"weekday\": 1, \"label\": \"Weekday\"}, {\"Day\": \"2020-07-29T00:00:00\", \"Count\": 18, \"weekday\": 2, \"label\": \"Weekday\"}, {\"Day\": \"2020-07-30T00:00:00\", \"Count\": 14, \"weekday\": 3, \"label\": \"Weekday\"}, {\"Day\": \"2020-07-31T00:00:00\", \"Count\": 17, \"weekday\": 4, \"label\": \"Weekday\"}, {\"Day\": \"2020-08-01T00:00:00\", \"Count\": 52, \"weekday\": 5, \"label\": \"Saturday \\n& Sunday\"}, {\"Day\": \"2020-08-02T00:00:00\", \"Count\": 55, \"weekday\": 6, \"label\": \"Saturday \\n& Sunday\"}, {\"Day\": \"2020-08-03T00:00:00\", \"Count\": 24, \"weekday\": 0, \"label\": \"Weekday\"}, {\"Day\": \"2020-08-04T00:00:00\", \"Count\": 11, \"weekday\": 1, \"label\": \"Weekday\"}, {\"Day\": \"2020-08-05T00:00:00\", \"Count\": 16, \"weekday\": 2, \"label\": \"Weekday\"}, {\"Day\": \"2020-08-06T00:00:00\", \"Count\": 18, \"weekday\": 3, \"label\": \"Weekday\"}, {\"Day\": \"2020-08-07T00:00:00\", \"Count\": 25, \"weekday\": 4, \"label\": \"Weekday\"}, {\"Day\": \"2020-08-08T00:00:00\", \"Count\": 42, \"weekday\": 5, \"label\": \"Saturday \\n& Sunday\"}, {\"Day\": \"2020-08-09T00:00:00\", \"Count\": 53, \"weekday\": 6, \"label\": \"Saturday \\n& Sunday\"}, {\"Day\": \"2020-08-10T00:00:00\", \"Count\": 22, \"weekday\": 0, \"label\": \"Weekday\"}, {\"Day\": \"2020-08-11T00:00:00\", \"Count\": 12, \"weekday\": 1, \"label\": \"Weekday\"}, {\"Day\": \"2020-08-12T00:00:00\", \"Count\": 11, \"weekday\": 2, \"label\": \"Weekday\"}, {\"Day\": \"2020-08-13T00:00:00\", \"Count\": 6, \"weekday\": 3, \"label\": \"Weekday\"}, {\"Day\": \"2020-08-14T00:00:00\", \"Count\": 21, \"weekday\": 4, \"label\": \"Weekday\"}, {\"Day\": \"2020-08-15T00:00:00\", \"Count\": 51, \"weekday\": 5, \"label\": \"Saturday \\n& Sunday\"}, {\"Day\": \"2020-08-16T00:00:00\", \"Count\": 55, \"weekday\": 6, \"label\": \"Saturday \\n& Sunday\"}, {\"Day\": \"2020-08-17T00:00:00\", \"Count\": 25, \"weekday\": 0, \"label\": \"Weekday\"}, {\"Day\": \"2020-08-18T00:00:00\", \"Count\": 15, \"weekday\": 1, \"label\": \"Weekday\"}, {\"Day\": \"2020-08-19T00:00:00\", \"Count\": 14, \"weekday\": 2, \"label\": \"Weekday\"}, {\"Day\": \"2020-08-20T00:00:00\", \"Count\": 40, \"weekday\": 3, \"label\": \"Weekday\"}, {\"Day\": \"2020-08-21T00:00:00\", \"Count\": 34, \"weekday\": 4, \"label\": \"Weekday\"}, {\"Day\": \"2020-08-22T00:00:00\", \"Count\": 58, \"weekday\": 5, \"label\": \"Saturday \\n& Sunday\"}, {\"Day\": \"2020-08-23T00:00:00\", \"Count\": 62, \"weekday\": 6, \"label\": \"Saturday \\n& Sunday\"}, {\"Day\": \"2020-08-24T00:00:00\", \"Count\": 33, \"weekday\": 0, \"label\": \"Weekday\"}, {\"Day\": \"2020-08-25T00:00:00\", \"Count\": 14, \"weekday\": 1, \"label\": \"Weekday\"}, {\"Day\": \"2020-08-26T00:00:00\", \"Count\": 16, \"weekday\": 2, \"label\": \"Weekday\"}, {\"Day\": \"2020-08-27T00:00:00\", \"Count\": 13, \"weekday\": 3, \"label\": \"Weekday\"}], \"data-1d8084f21a1411ad8a200f0dd5d02e4d\": [{\"Day\": \"2020-05-30T00:00:00\", \"Count\": 100}, {\"Day\": \"2020-05-31T00:00:00\", \"Count\": 100}, {\"Day\": \"2020-06-06T00:00:00\", \"Count\": 100}, {\"Day\": \"2020-06-07T00:00:00\", \"Count\": 100}, {\"Day\": \"2020-06-13T00:00:00\", \"Count\": 100}, {\"Day\": \"2020-06-14T00:00:00\", \"Count\": 100}, {\"Day\": \"2020-06-20T00:00:00\", \"Count\": 100}, {\"Day\": \"2020-06-21T00:00:00\", \"Count\": 100}, {\"Day\": \"2020-06-27T00:00:00\", \"Count\": 100}, {\"Day\": \"2020-06-28T00:00:00\", \"Count\": 100}, {\"Day\": \"2020-07-04T00:00:00\", \"Count\": 100}, {\"Day\": \"2020-07-05T00:00:00\", \"Count\": 100}, {\"Day\": \"2020-07-11T00:00:00\", \"Count\": 100}, {\"Day\": \"2020-07-12T00:00:00\", \"Count\": 100}, {\"Day\": \"2020-07-18T00:00:00\", \"Count\": 100}, {\"Day\": \"2020-07-19T00:00:00\", \"Count\": 100}, {\"Day\": \"2020-07-25T00:00:00\", \"Count\": 100}, {\"Day\": \"2020-07-26T00:00:00\", \"Count\": 100}, {\"Day\": \"2020-08-01T00:00:00\", \"Count\": 100}, {\"Day\": \"2020-08-02T00:00:00\", \"Count\": 100}, {\"Day\": \"2020-08-08T00:00:00\", \"Count\": 100}, {\"Day\": \"2020-08-09T00:00:00\", \"Count\": 100}, {\"Day\": \"2020-08-15T00:00:00\", \"Count\": 100}, {\"Day\": \"2020-08-16T00:00:00\", \"Count\": 100}, {\"Day\": \"2020-08-22T00:00:00\", \"Count\": 100}, {\"Day\": \"2020-08-23T00:00:00\", \"Count\": 100}], \"data-c53cc984476594f91b0e4bd7f103b3e5\": [{\"Day\": \"2020-06-21T00:00:00\", \"Count\": 70, \"weekday\": 6, \"label\": \"Saturday \\n& Sunday\"}]}}, {\"mode\": \"vega-lite\"});\n",
       "</script>"
      ],
      "text/plain": [
       "alt.LayerChart(...)"
      ]
     },
     "execution_count": 42,
     "metadata": {},
     "output_type": "execute_result"
    }
   ],
   "source": [
    "c.properties(\n",
    "    title= {\n",
    "        \"text\": \"Data is Beautiful. Hangovers Are Not\",\n",
    "        \"subtitle\": \"[Google Search Volume for \\\"hangover cure\\\"]\"\n",
    "    }   \n",
    ").configure_title(\n",
    "    fontSize=32,\n",
    "    color=\"darkblue\"\n",
    ")"
   ]
  },
  {
   "cell_type": "markdown",
   "metadata": {},
   "source": [
    "And, that is it folks. If you're interested you can checkout the implementation in other libraries and langauges as well."
   ]
  }
 ],
 "metadata": {
  "kernelspec": {
   "display_name": "Python [conda env:py37]",
   "language": "python",
   "name": "conda-env-py37-py"
  },
  "language_info": {
   "codemirror_mode": {
    "name": "ipython",
    "version": 3
   },
   "file_extension": ".py",
   "mimetype": "text/x-python",
   "name": "python",
   "nbconvert_exporter": "python",
   "pygments_lexer": "ipython3",
   "version": "3.7.6"
  }
 },
 "nbformat": 4,
 "nbformat_minor": 4
}
